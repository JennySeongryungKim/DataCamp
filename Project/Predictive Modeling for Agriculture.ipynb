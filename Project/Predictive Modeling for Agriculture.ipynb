{
 "cells": [
  {
   "cell_type": "markdown",
   "id": "d3d001b0-2e2f-4b58-8442-99520bad831f",
   "metadata": {},
   "source": [
    "# Sowing Success: How Machine Learning Helps Farmers Select the Best Crops\n",
    "\n",
    "![Farmer in a field](farmer_in_a_field.jpg)\n",
    "\n",
    "Measuring essential soil metrics such as nitrogen, phosphorous, potassium levels, and pH value is an important aspect of assessing soil condition. However, it can be an expensive and time-consuming process, which can cause farmers to prioritize which metrics to measure based on their budget constraints.\n",
    "\n",
    "Farmers have various options when it comes to deciding which crop to plant each season. Their primary objective is to maximize the yield of their crops, taking into account different factors. One crucial factor that affects crop growth is the condition of the soil in the field, which can be assessed by measuring basic elements such as nitrogen and potassium levels. Each crop has an ideal soil condition that ensures optimal growth and maximum yield.\n",
    "\n",
    "A farmer reached out to you as a machine learning expert for assistance in selecting the best crop for his field. They've provided you with a dataset called `soil_measures.csv`, which contains:\n",
    "\n",
    "- `\"N\"`: Nitrogen content ratio in the soil\n",
    "- `\"P\"`: Phosphorous content ratio in the soil\n",
    "- `\"K\"`: Potassium content ratio in the soil\n",
    "- `\"pH\"` value of the soil\n",
    "- `\"crop\"`: categorical values that contain various crops (target variable).\n",
    "\n",
    "Each row in this dataset represents various measures of the soil in a particular field. Based on these measurements, the crop specified in the `\"crop\"` column is the optimal choice for that field.  \n",
    "\n",
    "In this project, you will build multi-class classification models to predict the type of `\"crop\"` and identify the single most importance feature for predictive performance."
   ]
  },
  {
   "cell_type": "markdown",
   "id": "287d62b4-29ce-4fe0-996b-d288b290670e",
   "metadata": {},
   "source": [
    "Identify the single feature that has the strongest predictive performance for classifying crop types.\n",
    "\n",
    "Find the feature in the dataset that produces the best score for predicting \"crop\".\n",
    "From this information, create a variable called best_predictive_feature, which:\n",
    "Should be a dictionary containing the best predictive feature name as a key and the evaluation score (for the metric you chose) as the value."
   ]
  },
  {
   "cell_type": "code",
   "execution_count": 13,
   "id": "d0eb4f16-5a99-460d-a5ba-706b7ef0bbe7",
   "metadata": {
    "executionCancelledAt": null,
    "executionTime": 3539,
    "id": "bA5ajAmk7XH6",
    "lastExecutedAt": 1730522253195,
    "lastExecutedByKernel": "a6f4e22a-d203-4044-8d64-c749aca21545",
    "lastScheduledRunId": null,
    "lastSuccessfullyExecutedCode": "# All required libraries are imported here for you.\nimport pandas as pd\nfrom sklearn.linear_model import LogisticRegression\nfrom sklearn.model_selection import train_test_split\nfrom sklearn import metrics\n\n# Load the dataset\ncrops = pd.read_csv(\"soil_measures.csv\")\n\n# Write your code here\n\n#Check for missing values\nprint(crops.isna().sum())\n\n#Check for crop types\ncrops['crop'].unique()\n\n#Split the data\nX = crops.drop(columns=\"crop\")\ny = crops[\"crop\"]\nX_train, X_test, y_train, y_test = train_test_split(\n    X,\n    y,\n    test_size=0.2,\n    random_state=42\n)\n\n\n#Evaluate feature performance\nfeature_performance = {}\n\n#Train a logistic regression model for each feature\nfor feature in [\"N\", \"P\", \"K\", \"ph\"]:\n    log_reg = LogisticRegression(multi_class = \"multinomial\")\n    log_reg.fit(X_train[[feature]], y_train)\n    y_pred = log_reg.predict(X_test[[feature]])\n    \n    f1 = metrics.f1_score(y_test, y_pred, average = \"weighted\")\n    \n    feature_performance[feature] = f1\n    print(f\"F1-score for {feature}: {f1}\")\n    \n    \n#K produced the best F1 score\n#Store in best_predictive_feature dictionary\nbest_predictive_feature = {\"K\": feature_performance[\"K\"]}\nbest_predictive_feature",
    "outputsMetadata": {
     "0": {
      "height": 227,
      "type": "stream"
     },
     "1": {
      "height": 222,
      "type": "dataFrame"
     }
    }
   },
   "outputs": [
    {
     "name": "stdout",
     "output_type": "stream",
     "text": [
      "N       0\n",
      "P       0\n",
      "K       0\n",
      "ph      0\n",
      "crop    0\n",
      "dtype: int64\n",
      "F1-score for N: 0.09149868209906838\n",
      "F1-score for P: 0.14761942909728204\n",
      "F1-score for K: 0.23896974566001802\n",
      "F1-score for ph: 0.04532731061152114\n"
     ]
    },
    {
     "data": {
      "text/plain": [
       "{'K': 0.23896974566001802}"
      ]
     },
     "execution_count": 13,
     "metadata": {},
     "output_type": "execute_result"
    }
   ],
   "source": [
    "# All required libraries are imported here for you.\n",
    "import pandas as pd\n",
    "from sklearn.linear_model import LogisticRegression\n",
    "from sklearn.model_selection import train_test_split\n",
    "from sklearn import metrics\n",
    "\n",
    "# Load the dataset\n",
    "crops = pd.read_csv(\"soil_measures.csv\")\n",
    "\n",
    "# Write your code here\n",
    "\n",
    "#Check for missing values\n",
    "print(crops.isna().sum())\n",
    "\n",
    "#Check for crop types\n",
    "crops['crop'].unique()\n",
    "\n",
    "#Split the data\n",
    "X = crops.drop(columns=\"crop\")\n",
    "y = crops[\"crop\"]\n",
    "X_train, X_test, y_train, y_test = train_test_split(\n",
    "    X,\n",
    "    y,\n",
    "    test_size=0.2,\n",
    "    random_state=42\n",
    ")\n",
    "\n",
    "\n",
    "#Evaluate feature performance\n",
    "feature_performance = {}\n",
    "\n",
    "#Train a logistic regression model for each feature\n",
    "for feature in [\"N\", \"P\", \"K\", \"ph\"]:\n",
    "    log_reg = LogisticRegression(multi_class = \"multinomial\")\n",
    "    log_reg.fit(X_train[[feature]], y_train)\n",
    "    y_pred = log_reg.predict(X_test[[feature]])\n",
    "    \n",
    "    f1 = metrics.f1_score(y_test, y_pred, average = \"weighted\")\n",
    "    \n",
    "    feature_performance[feature] = f1\n",
    "    print(f\"F1-score for {feature}: {f1}\")\n",
    "    \n",
    "    \n",
    "#K produced the best F1 score\n",
    "#Store in best_predictive_feature dictionary\n",
    "best_predictive_feature = {\"K\": feature_performance[\"K\"]}\n",
    "best_predictive_feature"
   ]
  }
 ],
 "metadata": {
  "colab": {
   "name": "Welcome to DataCamp Workspaces.ipynb",
   "provenance": []
  },
  "kernelspec": {
   "display_name": "Python 3 (ipykernel)",
   "language": "python",
   "name": "python3"
  },
  "language_info": {
   "codemirror_mode": {
    "name": "ipython",
    "version": 3
   },
   "file_extension": ".py",
   "mimetype": "text/x-python",
   "name": "python",
   "nbconvert_exporter": "python",
   "pygments_lexer": "ipython3",
   "version": "3.12.2"
  }
 },
 "nbformat": 4,
 "nbformat_minor": 5
}
